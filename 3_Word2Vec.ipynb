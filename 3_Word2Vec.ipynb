{
 "cells": [
  {
   "cell_type": "code",
   "execution_count": 1,
   "metadata": {
    "colab": {
     "base_uri": "https://localhost:8080/",
     "height": 54
    },
    "colab_type": "code",
    "id": "lQHUvhlcSUR6",
    "outputId": "cec9fb2a-4666-4dd4-d135-3eaf17531ef0"
   },
   "outputs": [],
   "source": [
    "# # Mount the Google drive onto Colab Virtual Environment\n",
    "# from google.colab import drive\n",
    "# drive.mount('/content/drive')\n",
    "root = '.'\n",
    "# root = '/content/drive/My Drive/English Dataset'"
   ]
  },
  {
   "cell_type": "code",
   "execution_count": 2,
   "metadata": {
    "colab": {},
    "colab_type": "code",
    "id": "sblMzq0nSTa6"
   },
   "outputs": [
    {
     "name": "stderr",
     "output_type": "stream",
     "text": [
      "/usr/local/lib/python3.6/site-packages/h5py/__init__.py:36: FutureWarning: Conversion of the second argument of issubdtype from `float` to `np.floating` is deprecated. In future, it will be treated as `np.float64 == np.dtype(float).type`.\n",
      "  from ._conv import register_converters as _register_converters\n"
     ]
    }
   ],
   "source": [
    "from __future__ import print_function\n",
    "import collections\n",
    "import math\n",
    "import numpy as np\n",
    "import os\n",
    "import random\n",
    "import tensorflow as tf\n",
    "import zipfile\n",
    "from six.moves import range\n",
    "from six.moves.urllib.request import urlretrieve\n",
    "import pandas as pd\n",
    "import pickle"
   ]
  },
  {
   "cell_type": "code",
   "execution_count": 3,
   "metadata": {
    "colab": {},
    "colab_type": "code",
    "id": "8HrGr_l-STbA"
   },
   "outputs": [],
   "source": [
    "filename = os.path.join(root, 'mono.en')"
   ]
  },
  {
   "cell_type": "code",
   "execution_count": 4,
   "metadata": {
    "colab": {
     "base_uri": "https://localhost:8080/",
     "height": 34
    },
    "colab_type": "code",
    "id": "ycVuwT3YSTbD",
    "outputId": "413088b6-67d8-4be9-92ff-4c20c2fd3612"
   },
   "outputs": [
    {
     "name": "stdout",
     "output_type": "stream",
     "text": [
      "Data size 463477\n"
     ]
    }
   ],
   "source": [
    "def read_data(filename):\n",
    "    words = list()\n",
    "    \n",
    "    with open(filename) as f:\n",
    "        c = tf.compat.as_str(f.read(1))\n",
    "        \n",
    "        while c:\n",
    "            word = ''\n",
    "            \n",
    "            while c != ' ':\n",
    "                word += c\n",
    "                \n",
    "                c = tf.compat.as_str(f.read(1))\n",
    "            \n",
    "            words.append(word)\n",
    "                \n",
    "            c = tf.compat.as_str(f.read(1))\n",
    "            \n",
    "    return words\n",
    "\n",
    "words = read_data(filename)\n",
    "print(\"Data size %d\" % len(words))"
   ]
  },
  {
   "cell_type": "code",
   "execution_count": 5,
   "metadata": {
    "colab": {
     "base_uri": "https://localhost:8080/",
     "height": 34
    },
    "colab_type": "code",
    "id": "sXJOKPjUTN_e",
    "outputId": "33a01b86-3f35-484a-faf5-2314b73687ba"
   },
   "outputs": [
    {
     "data": {
      "text/plain": [
       "8730"
      ]
     },
     "execution_count": 5,
     "metadata": {},
     "output_type": "execute_result"
    }
   ],
   "source": [
    "len(set(words))"
   ]
  },
  {
   "cell_type": "code",
   "execution_count": 6,
   "metadata": {
    "colab": {
     "base_uri": "https://localhost:8080/",
     "height": 71
    },
    "colab_type": "code",
    "id": "qzxYNJAWSTbL",
    "outputId": "2cca520c-29c7-4f01-fa6b-74114e49c954"
   },
   "outputs": [
    {
     "name": "stdout",
     "output_type": "stream",
     "text": [
      "Most common words (+UNK) [['UNK', 0], ('the', 22887), ('to', 13574), ('a', 9482), ('you', 8308)]\n",
      "Sample data [177, 22, 228, 36, 1007, 3618, 1561, 1007, 2534, 1]\n"
     ]
    }
   ],
   "source": [
    "vocabulary_size = len(set(words)) +1\n",
    "\n",
    "def build_dataset(words):\n",
    "    count = [['UNK', -1]]\n",
    "    count.extend(collections.Counter(words).most_common(vocabulary_size-1))\n",
    "    dictionary = dict()\n",
    "    \n",
    "    for word, _ in count:\n",
    "        dictionary[word] = len(dictionary)\n",
    "    \n",
    "    data = list()\n",
    "    unk_count = 0\n",
    "    \n",
    "    for word in words:\n",
    "        if word in dictionary:\n",
    "            index = dictionary[word]\n",
    "        else:\n",
    "            index = 0\n",
    "            unk_count += 1\n",
    "        data.append(index)\n",
    "    \n",
    "    count[0][1] = unk_count\n",
    "    \n",
    "    reverse_dictionary = dict(zip(dictionary.values(), dictionary.keys()))\n",
    "    return data, count, dictionary, reverse_dictionary\n",
    "\n",
    "data, count, dictionary, reverse_dictionary = build_dataset(words)\n",
    "print(\"Most common words (+UNK)\", count[:5])\n",
    "print(\"Sample data\", data[:10])\n",
    "del words"
   ]
  },
  {
   "cell_type": "code",
   "execution_count": 7,
   "metadata": {
    "colab": {
     "base_uri": "https://localhost:8080/",
     "height": 170
    },
    "colab_type": "code",
    "id": "XgT6UcEpSTbO",
    "outputId": "fe31cfbf-7f29-4fd5-a220-a27af04b57a3"
   },
   "outputs": [
    {
     "name": "stdout",
     "output_type": "stream",
     "text": [
      "Data: ['give', 'your', 'application', 'an', 'accessibility', 'workout', 'accerciser', 'accessibility']\n",
      "\n",
      "with num_skips = 2 and skip_window = 1:\n",
      "    batch: ['your', 'your', 'application', 'application', 'an', 'an', 'accessibility', 'accessibility']\n",
      "    labels: ['give', 'application', 'an', 'your', 'accessibility', 'application', 'workout', 'an']\n",
      "\n",
      "with num_skips = 4 and skip_window = 2:\n",
      "    batch: ['application', 'application', 'application', 'application', 'an', 'an', 'an', 'an']\n",
      "    labels: ['give', 'your', 'accessibility', 'an', 'accessibility', 'your', 'workout', 'application']\n"
     ]
    }
   ],
   "source": [
    "data_index = 0\n",
    "\n",
    "def generate_batch(batch_size, num_skips, skip_window):\n",
    "    global data_index\n",
    "    assert batch_size % num_skips == 0\n",
    "    assert num_skips <= 2 * skip_window\n",
    "    \n",
    "    batch = np.ndarray(shape=(batch_size), dtype=np.int32)\n",
    "    labels = np.ndarray(shape=(batch_size, 1), dtype=np.int32)\n",
    "    span = 2 * skip_window + 1\n",
    "    buffer = collections.deque(maxlen=span)\n",
    "    \n",
    "    for _ in range(span):\n",
    "        buffer.append(data[data_index])\n",
    "        data_index = (data_index + 1) % len(data)\n",
    "    \n",
    "    for i in range(batch_size // num_skips):\n",
    "        target = skip_window\n",
    "        targets_to_avoid = [skip_window]\n",
    "        \n",
    "        for j in range(num_skips):\n",
    "            while target in targets_to_avoid:\n",
    "                target = random.randint(0, span-1)\n",
    "            targets_to_avoid.append(target)\n",
    "            batch[i * num_skips + j] = buffer[skip_window]\n",
    "            labels[i * num_skips + j, 0] = buffer[target]\n",
    "        buffer.append(data[data_index])\n",
    "        data_index = (data_index + 1) % len(data)\n",
    "    return batch, labels\n",
    "\n",
    "print(\"Data:\", [reverse_dictionary[di] for di in data[:8]])\n",
    "\n",
    "for num_skips, skip_window in [(2, 1), (4, 2)]:\n",
    "    data_index = 0\n",
    "    batch, labels = generate_batch(batch_size=8, num_skips=num_skips, skip_window=skip_window)\n",
    "    print(\"\\nwith num_skips = %d and skip_window = %d:\" % (num_skips, skip_window))\n",
    "    print(\"    batch:\", [reverse_dictionary[bi] for bi in batch])\n",
    "    print(\"    labels:\", [reverse_dictionary[di] for di in labels.reshape(8)])"
   ]
  },
  {
   "cell_type": "code",
   "execution_count": 8,
   "metadata": {
    "colab": {
     "base_uri": "https://localhost:8080/",
     "height": 190
    },
    "colab_type": "code",
    "id": "nxiQasQjSTbS",
    "outputId": "aff61be9-e83e-48e5-b30e-9ea4e011590d"
   },
   "outputs": [
    {
     "name": "stdout",
     "output_type": "stream",
     "text": [
      "WARNING:tensorflow:From /usr/local/lib/python3.6/site-packages/tensorflow/python/ops/nn_impl.py:1344: softmax_cross_entropy_with_logits (from tensorflow.python.ops.nn_ops) is deprecated and will be removed in a future version.\n",
      "Instructions for updating:\n",
      "\n",
      "Future major versions of TensorFlow will allow gradients to flow\n",
      "into the labels input on backprop by default.\n",
      "\n",
      "See @{tf.nn.softmax_cross_entropy_with_logits_v2}.\n",
      "\n"
     ]
    }
   ],
   "source": [
    "batch_size = 128\n",
    "embedding_size = 128\n",
    "skip_window = 1\n",
    "num_skips = 2\n",
    "valid_size = 16\n",
    "valid_window = 100\n",
    "valid_examples = np.array(random.sample(range(valid_window), valid_size))\n",
    "num_sampled = 64\n",
    "\n",
    "graph = tf.Graph()\n",
    "\n",
    "with graph.as_default(), tf.device('/cpu:0'):\n",
    "    train_dataset = tf.placeholder(tf.int32, shape=[batch_size])\n",
    "    train_labels = tf.placeholder(tf.int32, shape=[batch_size, 1])\n",
    "    valid_dataset = tf.constant(valid_examples, dtype=tf.int32)\n",
    "    \n",
    "    embeddings = tf.Variable(tf.random_uniform([vocabulary_size, embedding_size], -1.0, 1.0))\n",
    "    softmax_weights = tf.Variable(tf.truncated_normal([vocabulary_size, embedding_size], stddev=1.0 / math.sqrt(embedding_size)))\n",
    "    softmax_biases = tf.Variable(tf.zeros([vocabulary_size]))\n",
    "    \n",
    "    embed = tf.nn.embedding_lookup(embeddings, train_dataset)\n",
    "    loss = tf.reduce_mean(tf.nn.sampled_softmax_loss(weights=softmax_weights, biases=softmax_biases, inputs=embed,\n",
    "                                                    labels=train_labels, num_sampled=num_sampled, num_classes=vocabulary_size))\n",
    "    \n",
    "    optimizer = tf.train.AdagradOptimizer(1.0).minimize(loss)\n",
    "    \n",
    "    norm = tf.sqrt(tf.reduce_sum(tf.square(embeddings), 1, keepdims=True))\n",
    "    normalized_embeddings = embeddings / norm\n",
    "    valid_embeddings = tf.nn.embedding_lookup(normalized_embeddings, valid_dataset)\n",
    "    similarity = tf.matmul(valid_embeddings, tf.transpose(normalized_embeddings))"
   ]
  },
  {
   "cell_type": "code",
   "execution_count": 9,
   "metadata": {
    "colab": {
     "base_uri": "https://localhost:8080/",
     "height": 7463
    },
    "colab_type": "code",
    "id": "GH8-7TyESTbV",
    "outputId": "74cb282b-0b00-4de3-f1dd-ed940a5013cd"
   },
   "outputs": [
    {
     "name": "stdout",
     "output_type": "stream",
     "text": [
      "Initialized\n",
      "Average loss at step 0: 6.340580\n",
      "Nearest to go: stuttering, tenthirty, newlibrary…, rang, z, reached, faces, mountainous,\n",
      "Nearest to no: thursday, goodfornothing, bedrooms, prime, commenting, barbecue, consists, ugly,\n",
      "Nearest to should: cheers, kilo, debugger, queens, washed, alpha, blamed, variable…,\n",
      "Nearest to from: heroin, ammunition, buddhist, remind, gently, requires, invitation, grade,\n",
      "Nearest to with: undefined, forgave, proven, able, parenthese, fastball, price, acceptsave,\n",
      "Nearest to do: frozen, nap, norway, treaty, creative, sinners, jpg, gym,\n",
      "Nearest to my: imported, typhoon, distant, steak, software…, entity, disturbed, resulting,\n",
      "Nearest to if: entertaining, sdlimage, dial, gummy, lays, frame, thats, ask,\n",
      "Nearest to will: sworn, none, float, well, falls, sysfs, insect, meal,\n",
      "Nearest to one: merge, wheat, refcount, malformed, mince, indicated, dialed, backrub,\n",
      "Nearest to be: einstein, sieve, voices, expedited, read, permanently, philosophy, innumerable,\n",
      "Nearest to have: damacus, licenses, addon, xml, threes, together, globale, forklift,\n",
      "Nearest to dont: aggressive, wondering, peanut, incident, gather, screw, sinking, military,\n",
      "Nearest to know: adultery, place, caution, commerce, calcutta, doll, developers, only,\n",
      "Nearest to his: lend, closet, technology, pushes, margins, chased, bothers, advantage,\n",
      "Nearest to set: swim, caviar, numbers, wealthy, live, oiled, exgirlfriend, dots,\n",
      "Average loss at step 2000: 2.629986\n",
      "Average loss at step 4000: 2.488193\n",
      "Average loss at step 6000: 3.697950\n",
      "Average loss at step 8000: 2.571178\n",
      "Average loss at step 10000: 1.919287\n",
      "Nearest to go: vcdimager, come, forbarhebrew, chose, teach, z, fitness, fantastic,\n",
      "Nearest to no: considering, been, morocco, teachers, eighth, disappearing, italy, detroit,\n",
      "Nearest to should: heroin, can, atoms, popup, washed, arrogance, economically, capability,\n",
      "Nearest to from: garbage, compressed, heroin, screen, requires, database, arbfp, with,\n",
      "Nearest to with: parenthese, giraffes, autocomplete, price, jesus, from, liberal, acceptsave,\n",
      "Nearest to do: did, cvsheader, are, hockey, encodingsbarjapanese, jpg, you’ve, were,\n",
      "Nearest to my: his, her, your, toms, our, loses, beatnik, tom,\n",
      "Nearest to if: divorce, xyz, cattle, dies, forward, throwing, connecting…, functions,\n",
      "Nearest to will: can, antialias, specialist, investigating, jackson, perth, cant, as,\n",
      "Nearest to one: two, refcount, senate, compilation, clearhistory, england, plains, osmosis,\n",
      "Nearest to be: voices, third, greeks, sieve, join…, baltimore, smoke, goalkeeper,\n",
      "Nearest to have: damacus, imapsubfolder, want, imitate, chaucer, are, need, agnes,\n",
      "Nearest to dont: cant, didnt, comments, flown, breathe, choosen, am, monopoly,\n",
      "Nearest to know: want, downloader, throw, see, reopen, caution, dsl, imaginary,\n",
      "Nearest to his: my, her, toms, closely, speeds, roosevelt, citizens, your,\n",
      "Nearest to set: wealthy, everest, oiled, superpowers, traveled, options, saslmechanism, ownfonts,\n",
      "Average loss at step 12000: 2.589905\n",
      "Average loss at step 14000: 2.858740\n",
      "Average loss at step 16000: 1.735587\n",
      "Average loss at step 18000: 1.830444\n",
      "Average loss at step 20000: 2.876381\n",
      "Nearest to go: went, going, come, websites, stay, decide, chose, broccoli,\n",
      "Nearest to no: adaptation, goodfornothing, renamed, gay, teachers, considering, signature, morocco,\n",
      "Nearest to should: will, can, would, wont, motioned, might, popup, could,\n",
      "Nearest to from: heroin, dvdcss, garbage, gaga, with, presence, murders, decay,\n",
      "Nearest to with: in, to, parenthese, guitarist, pie, from, logic, acceptsave,\n",
      "Nearest to do: did, expressions, mexico, buy, speak, have, sow, cvsheader,\n",
      "Nearest to my: your, his, toms, her, our, the, beatnik, ináñez,\n",
      "Nearest to if: brunch, smallest, vomited, teach, connecting…, dies, divorce, adaptation,\n",
      "Nearest to will: cant, can, must, should, may, ill, antialias, could,\n",
      "Nearest to one: two, refcount, england, longer, appetite, plenty, senate, newspapers,\n",
      "Nearest to be: normalization, sinners, ride, come, join…, greeks, been, wake,\n",
      "Nearest to have: want, need, ive, has, were, damacus, yet, do,\n",
      "Nearest to dont: didnt, cant, doesnt, can, continuation, wont, trains, choosen,\n",
      "Nearest to know: need, knows, want, see, found, laugh, noguchi, understand,\n",
      "Nearest to his: her, my, your, our, toms, andy, community, marys,\n",
      "Nearest to set: driving, addbookmark…, traveled, plates, chocolates, saslmechanism, everest, superpowers,\n",
      "Average loss at step 22000: 2.052005\n",
      "Average loss at step 24000: 1.672658\n",
      "Average loss at step 26000: 2.362910\n",
      "Average loss at step 28000: 2.467690\n",
      "Average loss at step 30000: 1.641777\n",
      "Nearest to go: plates, maximumjitter, went, chose, decide, canary, sickness, transcode,\n",
      "Nearest to no: detroit, been, eighth, teachers, renamed, shanghai, goodfornothing, nails,\n",
      "Nearest to should: can, will, org, did, affair, motioned, memory, ©,\n",
      "Nearest to from: vietnamese, garbage, heroin, constitution, barin, clearall, dvdcss, snapped,\n",
      "Nearest to with: parenthese, price, deer, harrisons, proven, liberal, churches, manipulate,\n",
      "Nearest to do: did, are, execute, cvsheader, karima, buy, expressions, inaccurate,\n",
      "Nearest to my: her, his, toms, our, your, marys, ináñez, bookmarksbarmost,\n",
      "Nearest to if: divorce, may, identity, smallest, sexual, cdrkit, highly, whitespaces,\n",
      "Nearest to will: may, cant, should, can, could, must, antialias, communism,\n",
      "Nearest to one: venice, two, refcount, longer, begining, senate, otoole, contact,\n",
      "Nearest to be: been, voices, smoke, have, normalization, goalkeeper, experiment, baltimore,\n",
      "Nearest to have: damacus, want, need, stubborn, be, imitate, mosques, debug,\n",
      "Nearest to dont: didnt, cant, doesnt, wouldnt, may, wont, trains, am,\n",
      "Nearest to know: need, want, knows, laugh, understand, noguchi, downloader, throw,\n",
      "Nearest to his: my, her, our, toms, your, marys, syne, common,\n",
      "Nearest to set: tower, extents, saslmechanism, bounding, everest, nile, plates, abnormal,\n",
      "Average loss at step 32000: 1.764108\n",
      "Average loss at step 34000: 2.638814\n",
      "Average loss at step 36000: 1.793865\n",
      "Average loss at step 38000: 1.588282\n",
      "Average loss at step 40000: 2.337518\n",
      "Nearest to go: went, going, broccoli, sickness, timetable, teach, websites, decide,\n",
      "Nearest to no: goodfornothing, teachers, renamed, gay, authentification, eighth, morocco, yakitori,\n",
      "Nearest to should: will, did, can, huh, anyway, must, heroin, dont,\n",
      "Nearest to from: heroin, gaga, dvdcss, on, compressed, presence, drama, snapped,\n",
      "Nearest to with: parenthese, in, churches, muhammad, fired, traditionally, shadows, shepard,\n",
      "Nearest to do: buy, matching, reap, eat, did, like, learn, she,\n",
      "Nearest to my: your, his, our, toms, skating, her, ináñez, thai,\n",
      "Nearest to if: smallest, may, fried, divorce, thats, symlink, functions, arent,\n",
      "Nearest to will: should, cant, must, ill, could, can, may, clarinetist,\n",
      "Nearest to one: longer, two, refcount, nothing, england, appetite, newspapers, secondhand,\n",
      "Nearest to be: attack, walk, everybody, been, behave, voices, join…, not,\n",
      "Nearest to have: want, need, had, m, ordered, wish, damacus, brazilian,\n",
      "Nearest to dont: didnt, cant, wouldnt, doesnt, wont, you, may, trains,\n",
      "Nearest to know: want, need, understand, forget, knows, see, remember, laugh,\n",
      "Nearest to his: her, my, our, your, toms, marys, he, andy,\n",
      "Nearest to set: driving, addbookmark…, saslmechanism, wealthy, everest, extent, traveled, superpowers,\n",
      "Average loss at step 42000: 2.281899\n",
      "Average loss at step 44000: 1.526574\n",
      "Average loss at step 46000: 1.789275\n",
      "Average loss at step 48000: 2.521681\n",
      "Average loss at step 50000: 1.718467\n",
      "Nearest to go: went, teach, plates, sickness, maximumjitter, decide, sandy, “online”,\n",
      "Nearest to no: districts, goodfornothing, bearing, missing, checkimap, considering, library…, detroit,\n",
      "Nearest to should: will, can, memory, must, vob, org, anyway, notice,\n",
      "Nearest to from: barin, clearall, on, substitute, snapped, “smb”, decay, database,\n",
      "Nearest to with: parenthese, harrisons, typical, deleteall, pepperoni, stylesheet, shiitake, gdb,\n",
      "Nearest to do: did, buy, will, karima, expressions, reap, don, execute,\n",
      "Nearest to my: her, toms, our, his, bookmarksbarmost, your, marys, ebay,\n",
      "Nearest to if: divorce, neighborhood, symlink, smallest, connecting…, may, sexual, pipeline,\n",
      "Nearest to will: should, can, cant, must, could, processtree, may, antialias,\n",
      "Nearest to one: two, longer, appetite, encodingsbartraditional, venice, demands, nothing, congas,\n",
      "Nearest to be: been, goalkeeper, attack, have, permanently, products, allies, experiment,\n",
      "Nearest to have: need, want, imitate, damacus, provide, shouldve, mosques, be,\n",
      "Nearest to dont: didnt, cant, doesnt, wouldnt, wont, trains, choosen, cannot,\n",
      "Nearest to know: want, understand, need, knows, laugh, lie, celebrating, accessibles,\n",
      "Nearest to his: her, our, toms, my, your, syne, marys, citizens,\n",
      "Nearest to set: driving, bounding, addbookmark…, extent, layered, stop, ask, tower,\n"
     ]
    },
    {
     "name": "stdout",
     "output_type": "stream",
     "text": [
      "Average loss at step 52000: 1.477781\n",
      "Average loss at step 54000: 2.339341\n",
      "Average loss at step 56000: 2.129961\n",
      "Average loss at step 58000: 1.450757\n",
      "Average loss at step 60000: 1.861714\n",
      "Nearest to go: went, going, teach, broccoli, bilinear, sandy, sickness, help,\n",
      "Nearest to no: teachers, goodfornothing, districts, irresponsible, blondes, gay, authentification, detroit,\n",
      "Nearest to should: will, can, huh, must, did, won, motioned, wont,\n",
      "Nearest to from: heroin, gaga, murders, includes, forgave, faucet, garbage, clearall,\n",
      "Nearest to with: parenthese, recognize, traditionally, churches, goggles, fired, phone, logic,\n",
      "Nearest to do: buy, understood, matching, eat, did, crybaby, reap, ski,\n",
      "Nearest to my: your, our, his, toms, marys, the, wheres, bookmarksbarmost,\n",
      "Nearest to if: smallest, symlink, neighborhood, look, sexual, highly, whitespaces, fried,\n",
      "Nearest to will: cant, should, must, can, may, ill, wont, to,\n",
      "Nearest to one: senate, longer, two, colds, refcount, venice, war, somebody,\n",
      "Nearest to be: attack, been, he, greeks, goalkeeper, voices, bit, escape,\n",
      "Nearest to have: want, need, had, m, buy, oclock, damacus, holiday,\n",
      "Nearest to dont: didnt, doesnt, cant, wouldnt, owe, can, wont, nauseous,\n",
      "Nearest to know: forget, understand, knows, need, want, understood, mean, laugh,\n",
      "Nearest to his: our, your, my, her, marys, published, health, andy,\n",
      "Nearest to set: saslmechanism, driving, pillows, layered, addbookmark…, she, bounding, tower,\n",
      "Average loss at step 62000: 2.436113\n",
      "Average loss at step 64000: 1.624965\n",
      "Average loss at step 66000: 1.424004\n",
      "Average loss at step 68000: 2.373896\n",
      "Average loss at step 70000: 2.006319\n",
      "Nearest to go: went, sickness, teach, going, decide, stay, scrub, transcode,\n",
      "Nearest to no: districts, hundreds, considering, checkimap, xul, missing, bearing, portrait,\n",
      "Nearest to should: will, wont, can, huh, won, heroin, anyway, vob,\n",
      "Nearest to from: sevens, heroin, on, tutorials, clearall, dvdcss, barin, constitution,\n",
      "Nearest to with: parenthese, in, traditionally, typical, native, goggles, harrisons, docked,\n",
      "Nearest to do: did, buy, reap, expressions, don, cvsheader, sow, matching,\n",
      "Nearest to my: his, her, marys, toms, our, bookmarksbarmost, your, skating,\n",
      "Nearest to if: repositry, connecting…, pipeline, highly, sexual, whitespaces, symlink, forward,\n",
      "Nearest to will: should, can, could, antialias, processtree, must, cant, ill,\n",
      "Nearest to one: two, colds, senate, independence, secondhand, encodingsbartraditional, congas, longer,\n",
      "Nearest to be: attack, goalkeeper, normalization, become, allies, permanently, seahaven, baltimore,\n",
      "Nearest to have: need, want, ive, shouldve, imitate, had, havent, provide,\n",
      "Nearest to dont: didnt, cant, doesnt, wouldnt, wont, trains, owe, cannot,\n",
      "Nearest to know: understand, want, need, knows, laugh, celebrating, forget, remember,\n",
      "Nearest to his: my, her, our, toms, your, marys, syne, authorization,\n",
      "Nearest to set: saslmechanism, driving, extents, markers, enableall, bounding, authentic, fit,\n",
      "Average loss at step 72000: 1.415657\n",
      "Average loss at step 74000: 1.923058\n",
      "Average loss at step 76000: 2.375341\n",
      "Average loss at step 78000: 1.522501\n",
      "Average loss at step 80000: 1.414463\n",
      "Nearest to go: went, plates, teach, pack, sickness, sandy, come, draftbox,\n",
      "Nearest to no: missing, districts, teachers, portrait, gay, toc, considering, blondes,\n",
      "Nearest to should: will, huh, can, dial, tidy, heroin, dwelling, org,\n",
      "Nearest to from: heroin, displaying, snapped, vietnamese, decay, clearall, collection, colorize,\n",
      "Nearest to with: parenthese, autocomplete, jhbuild, stylesheet, typical, link…, minimum, swallowed,\n",
      "Nearest to do: did, are, don, buy, protocol, asdata, vps, matching,\n",
      "Nearest to my: your, our, leadout, his, toms, marys, her, machines,\n",
      "Nearest to if: smallest, whitespaces, neighborhood, symlink, sexual, thorough, highly, bold,\n",
      "Nearest to will: should, must, can, processtree, could, may, ill, cant,\n",
      "Nearest to one: senate, two, congas, factor, opens, colds, markers, switches,\n",
      "Nearest to be: been, goalkeeper, permanently, behave, halloween, have, resulting, allies,\n",
      "Nearest to have: need, want, imitate, colds, damacus, mosques, be, css,\n",
      "Nearest to dont: didnt, cant, wouldnt, doesnt, trains, wont, owe, havent,\n",
      "Nearest to know: understand, need, forget, want, celebrating, remember, prove, verify,\n",
      "Nearest to his: toms, her, marys, our, my, syne, honshu, citizens,\n",
      "Nearest to set: fit, driving, pillows, tower, layered, printed, addbookmark…, revoked,\n",
      "Average loss at step 82000: 2.394325\n",
      "Average loss at step 84000: 1.877731\n",
      "Average loss at step 86000: 1.436717\n",
      "Average loss at step 88000: 1.953875\n",
      "Average loss at step 90000: 2.283966\n",
      "Nearest to go: went, come, teach, going, wake, stay, sickness, cry,\n",
      "Nearest to no: goodfornothing, missing, rebel, portrait, hundreds, districts, bearing, blondes,\n",
      "Nearest to should: will, huh, can, wont, did, motioned, cant, chapstick,\n",
      "Nearest to from: heroin, aliens, faucet, forgave, vietnamese, constitution, includes, forbarunified,\n",
      "Nearest to with: parenthese, traditionally, goggles, guest, swallowed, docked, typical, logic,\n",
      "Nearest to do: buy, barack, reap, did, homeless, chew, teach, forgive,\n",
      "Nearest to my: your, her, his, bookmarksbarmost, our, marys, toms, compared,\n",
      "Nearest to if: sexual, dont, when, smallest, paying, packets, repositry, homestead,\n",
      "Nearest to will: should, can, cant, wont, could, must, ill, may,\n",
      "Nearest to one: two, colds, longer, senate, forest, newspapers, tokyo, independence,\n",
      "Nearest to be: attack, allies, become, been, look, get, take, behave,\n",
      "Nearest to have: ive, need, want, had, havent, trains, shouldve, colds,\n",
      "Nearest to dont: cant, wouldnt, didnt, doesnt, can, wont, cannot, may,\n",
      "Nearest to know: understand, remember, want, forget, need, celebrating, touch, understood,\n",
      "Nearest to his: our, my, your, her, toms, syne, marys, sentenced,\n",
      "Nearest to set: driving, layered, pillows, fit, revoked, extent, marconi, printed,\n",
      "Average loss at step 92000: 1.460043\n",
      "Average loss at step 94000: 1.438633\n",
      "Average loss at step 96000: 2.416611\n",
      "Average loss at step 98000: 1.763228\n",
      "Average loss at step 100000: 1.459321\n",
      "Nearest to go: teach, went, sickness, sandy, maximumjitter, transcode, “online”, folk,\n",
      "Nearest to no: portrait, bearing, districts, toc, missing, goodfornothing, earning, there,\n",
      "Nearest to should: will, huh, memory, heroin, can, motioned, objective, org,\n",
      "Nearest to from: vietnamese, tutorials, snapped, heroin, presence, barin, suspend, decay,\n",
      "Nearest to with: parenthese, jhbuild, deleteall, stylesheet, typical, price, proceeding, without,\n",
      "Nearest to do: did, are, buy, don, closedtab, protocol, asdata, gamma,\n",
      "Nearest to my: his, our, bookmarksbarmost, toms, your, marys, leadout, her,\n",
      "Nearest to if: forward, neighborhood, repositry, whitespaces, smallest, sexual, canceled, symlink,\n",
      "Nearest to will: should, could, may, must, can, processtree, communism, fontconfig,\n",
      "Nearest to one: two, senate, giants, linear, congas, colds, longer, rabat,\n",
      "Nearest to be: have, been, greeks, resulting, experiment, baltimore, seahaven, permanently,\n",
      "Nearest to have: need, imitate, be, want, shouldve, damacus, mosques, colds,\n",
      "Nearest to dont: didnt, wouldnt, doesnt, cant, wont, trains, owe, justice,\n",
      "Nearest to know: understand, want, mean, need, remember, verify, laugh, celebrating,\n",
      "Nearest to his: our, my, her, marys, toms, syne, jpg, honshu,\n",
      "Nearest to set: shrink, driving, fit, pillows, addbookmark…, entertaining, hummingbird, marconi,\n"
     ]
    }
   ],
   "source": [
    "num_steps = 100001\n",
    "loss_list = list()\n",
    "\n",
    "with tf.Session(graph=graph) as session:\n",
    "    tf.global_variables_initializer().run()\n",
    "    print(\"Initialized\")\n",
    "    average_loss = 0\n",
    "    \n",
    "    for step in range(num_steps):\n",
    "        batch_data, batch_labels = generate_batch(batch_size, num_skips, skip_window)\n",
    "        feed_dict = {train_dataset:batch_data, train_labels:batch_labels}\n",
    "        _, l = session.run([optimizer, loss], feed_dict=feed_dict)\n",
    "        average_loss += l\n",
    "        \n",
    "        if step % 2000 == 0:\n",
    "            if step > 0:\n",
    "                average_loss = average_loss / 2000\n",
    "            \n",
    "            print(\"Average loss at step %d: %f\" % (step, average_loss))\n",
    "            loss_list.append(average_loss)\n",
    "            \n",
    "            average_loss = 0\n",
    "        \n",
    "        if step % 10000 == 0:\n",
    "            sim = similarity.eval()\n",
    "            for i in range(valid_size):\n",
    "                valid_word = reverse_dictionary[valid_examples[i]]\n",
    "                top_k = 8\n",
    "                nearest = (-sim[i, :]).argsort()[1:top_k+1]\n",
    "                log = 'Nearest to %s:' % valid_word\n",
    "                for k in range(top_k):\n",
    "                    close_word = reverse_dictionary[nearest[k]]\n",
    "                    log = '%s %s,' % (log, close_word)\n",
    "                print(log)\n",
    "    final_embeddings = normalized_embeddings.eval()"
   ]
  },
  {
   "cell_type": "code",
   "execution_count": 10,
   "metadata": {
    "colab": {
     "base_uri": "https://localhost:8080/",
     "height": 265
    },
    "colab_type": "code",
    "id": "6Mr5Q6PiT83x",
    "outputId": "2751fae5-13b8-4f55-a387-3980ddf313f0"
   },
   "outputs": [
    {
     "data": {
      "image/png": "[encoded data removed]",
      "text/plain": [
       "<Figure size 432x288 with 1 Axes>"
      ]
     },
     "metadata": {},
     "output_type": "display_data"
    }
   ],
   "source": [
    "import matplotlib.pyplot as plt\n",
    "%matplotlib inline\n",
    "\n",
    "plt.plot(list(range(0, 100001, 2000)), loss_list)\n",
    "plt.show()"
   ]
  },
  {
   "cell_type": "code",
   "execution_count": 11,
   "metadata": {
    "colab": {},
    "colab_type": "code",
    "id": "I1pxA-9mSTbZ"
   },
   "outputs": [],
   "source": [
    "output = {\n",
    "    'embeddings': final_embeddings,\n",
    "    'dictionary': dictionary,\n",
    "    'reverse_dictionary': reverse_dictionary\n",
    "}"
   ]
  },
  {
   "cell_type": "code",
   "execution_count": 12,
   "metadata": {
    "colab": {},
    "colab_type": "code",
    "id": "-1QXDppfSTbc"
   },
   "outputs": [],
   "source": [
    "with open(os.path.join(root, 'embeddings.en'), 'wb') as f:\n",
    "    pickle.dump(output, f)"
   ]
  },
  {
   "cell_type": "code",
   "execution_count": null,
   "metadata": {},
   "outputs": [],
   "source": []
  }
 ],
 "metadata": {
  "colab": {
   "collapsed_sections": [],
   "include_colab_link": true,
   "name": "3_Word2Vec.ipynb",
   "provenance": [],
   "version": "0.3.2"
  },
  "kernelspec": {
   "display_name": "Python 3",
   "language": "python",
   "name": "python3"
  },
  "language_info": {
   "codemirror_mode": {
    "name": "ipython",
    "version": 3
   },
   "file_extension": ".py",
   "mimetype": "text/x-python",
   "name": "python",
   "nbconvert_exporter": "python",
   "pygments_lexer": "ipython3",
   "version": "3.6.5"
  }
 },
 "nbformat": 4,
 "nbformat_minor": 1
}
