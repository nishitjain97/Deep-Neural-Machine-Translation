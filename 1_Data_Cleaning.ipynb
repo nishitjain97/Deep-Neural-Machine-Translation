{
 "cells": [
  {
   "cell_type": "code",
   "execution_count": 1,
   "metadata": {
    "colab": {
     "base_uri": "https://localhost:8080/",
     "height": 122
    },
    "colab_type": "code",
    "id": "tp8Kz1hT-DnW",
    "outputId": "56a5df41-92b7-4bff-ee2b-a9a07dbc81af"
   },
   "outputs": [],
   "source": [
    "# # Mount the Google drive onto Colab Virtual Environment\n",
    "# from google.colab import drive\n",
    "# drive.mount('/content/drive')\n",
    "root = '.'\n",
    "# root = '/content/drive/My Drive/English Dataset'"
   ]
  },
  {
   "cell_type": "markdown",
   "metadata": {
    "colab_type": "text",
    "id": "IAAsLuNrhGT9"
   },
   "source": [
    "### 1. Packages"
   ]
  },
  {
   "cell_type": "code",
   "execution_count": 2,
   "metadata": {
    "colab": {},
    "colab_type": "code",
    "id": "skcwoT7K8ra-"
   },
   "outputs": [
    {
     "name": "stderr",
     "output_type": "stream",
     "text": [
      "/usr/local/lib/python3.6/site-packages/h5py/__init__.py:36: FutureWarning: Conversion of the second argument of issubdtype from `float` to `np.floating` is deprecated. In future, it will be treated as `np.float64 == np.dtype(float).type`.\n",
      "  from ._conv import register_converters as _register_converters\n"
     ]
    }
   ],
   "source": [
    "# Required packages\n",
    "import numpy as np\n",
    "import pandas as pd\n",
    "import string\n",
    "import re\n",
    "import tensorflow as tf\n",
    "from IPython.display import clear_output\n",
    "import os"
   ]
  },
  {
   "cell_type": "markdown",
   "metadata": {
    "colab_type": "text",
    "id": "Ohveu9lghGUF"
   },
   "source": [
    "### 2. Cleaning"
   ]
  },
  {
   "cell_type": "code",
   "execution_count": 3,
   "metadata": {
    "colab": {},
    "colab_type": "code",
    "id": "k4pzsq9B8rbE"
   },
   "outputs": [],
   "source": [
    "def clean_text(sentence:list=None, language:str=None):\n",
    "    \"\"\"\n",
    "        Input: List, String\n",
    "        Output: List\n",
    "        Takes in text as list of strings. Returns text cleaned for NMT purposes.\n",
    "    \"\"\"\n",
    "    if language == None:\n",
    "        print(\"Please enter which language.\")\n",
    "        return None\n",
    "        \n",
    "    exclude = set(string.punctuation)\n",
    "    remove_digits = str.maketrans('', '', string.digits)\n",
    "        \n",
    "    if language == 'en':\n",
    "        sentence = sentence.lower()\n",
    "        sentence = ''.join(ch for ch in sentence if ch not in exclude)\n",
    "        sentence = sentence.translate(remove_digits)\n",
    "        sentence = sentence.strip()\n",
    "        sentence = re.sub(\" +\", \" \", sentence)\n",
    "        return sentence\n",
    "    \n",
    "    elif language == 'hi':\n",
    "        sentence = sentence.lower()\n",
    "        sentence = ''.join(ch for ch in sentence if ch not in exclude)\n",
    "\n",
    "        sent_temp = ''\n",
    "        for c in sentence:\n",
    "            if c == ' ':\n",
    "                sent_temp += c\n",
    "            elif ord(u'\\u0900') <= ord(c) <= ord(u'\\u097F'):\n",
    "                sent_temp += c\n",
    "        sentence = sent_temp\n",
    "      \n",
    "        sentence = re.sub('[a-z]', '', sentence)\n",
    "        sentence = re.sub('[०१२३४५६७८९।]', '', sentence)\n",
    "        sentence = sentence.translate(remove_digits)\n",
    "        sentence = sentence.strip()\n",
    "        sentence = re.sub(\" +\", \" \", sentence)\n",
    "        return sentence\n",
    "    \n",
    "    elif language == 'ma':\n",
    "        sentence = sentence.lower()\n",
    "        sentence = ''.join(ch for ch in sentence if ch not in exclude)\n",
    "        sentence = re.sub('[a-z]', '', sentence)\n",
    "        sentence = re.sub('[०१२३४५६७८९।]', '', sentence)\n",
    "        sentence = sentence.translate(remove_digits)\n",
    "        sentence = sentence.strip()\n",
    "        sentence = re.sub(\" +\", \" \", sentence)\n",
    "        return sentence\n",
    "    \n",
    "    else:\n",
    "        print(\"Language not found\")\n",
    "        return None"
   ]
  },
  {
   "cell_type": "markdown",
   "metadata": {
    "colab_type": "text",
    "id": "hj3-GaVDhrB6"
   },
   "source": [
    "### 3. Cleaning Script"
   ]
  },
  {
   "cell_type": "code",
   "execution_count": 5,
   "metadata": {},
   "outputs": [],
   "source": [
    "lines = pd.read_pickle('hin-eng.parallel')\n",
    "\n",
    "for index, row in lines.iterrows():\n",
    "    eng = row['Eng']\n",
    "    hin = row['Hin']\n",
    "    \n",
    "    try:\n",
    "        eng = clean_text(eng, 'en')\n",
    "        hin = clean_text(hin, 'hi')\n",
    "    except:\n",
    "        lines.at[index, 'Eng'] = None\n",
    "        lines.at[index, 'Hin'] = None\n",
    "        continue\n",
    "        \n",
    "    if len(eng) == 0 or len(hin) == 0:\n",
    "        lines.at[index, 'Eng'] = None\n",
    "        lines.at[index, 'Hin'] = None\n",
    "        continue\n",
    "    \n",
    "    lines.at[index, 'Eng'] = eng\n",
    "    lines.at[index, 'Hin'] = hin\n",
    "    \n",
    "lines.drop(lines[pd.isnull(lines['Eng'])].index, axis=0, inplace=True)\n",
    "lines.to_pickle('hin-eng_cleaned.parallel')"
   ]
  },
  {
   "cell_type": "code",
   "execution_count": 18,
   "metadata": {},
   "outputs": [],
   "source": [
    "lines = pd.read_pickle('mar-eng.parallel')\n",
    "\n",
    "for index, row in lines.iterrows():\n",
    "    eng = row['Eng']\n",
    "    mar = row['Mar']\n",
    "    \n",
    "    try:\n",
    "        eng = clean_text(eng, 'en')\n",
    "        mar = clean_text(mar, 'ma')\n",
    "    except:\n",
    "        lines.at[index, 'Eng'] = None\n",
    "        lines.at[index, 'Mar'] = None\n",
    "        continue\n",
    "        \n",
    "    if len(eng) == 0 or len(mar) == 0:\n",
    "        lines.at[index, 'Eng'] = None\n",
    "        lines.at[index, 'Mar'] = None\n",
    "        continue\n",
    "        \n",
    "    lines.at[index, 'Eng'] = eng\n",
    "    lines.at[index, 'Mar'] = mar\n",
    "    \n",
    "lines.to_pickle('mar-eng_cleaned.parallel')"
   ]
  },
  {
   "cell_type": "code",
   "execution_count": null,
   "metadata": {},
   "outputs": [],
   "source": []
  }
 ],
 "metadata": {
  "colab": {
   "collapsed_sections": [],
   "include_colab_link": true,
   "name": "1_Data_Cleaning.ipynb",
   "provenance": [],
   "toc_visible": true,
   "version": "0.3.2"
  },
  "kernelspec": {
   "display_name": "Python 3",
   "language": "python",
   "name": "python3"
  },
  "language_info": {
   "codemirror_mode": {
    "name": "ipython",
    "version": 3
   },
   "file_extension": ".py",
   "mimetype": "text/x-python",
   "name": "python",
   "nbconvert_exporter": "python",
   "pygments_lexer": "ipython3",
   "version": "3.6.5"
  }
 },
 "nbformat": 4,
 "nbformat_minor": 1
}
