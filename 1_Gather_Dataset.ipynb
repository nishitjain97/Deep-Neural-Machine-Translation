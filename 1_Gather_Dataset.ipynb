{
  "nbformat": 4,
  "nbformat_minor": 0,
  "metadata": {
    "colab": {
      "name": "1_Gather_Dataset.ipynb",
      "version": "0.3.2",
      "provenance": [],
      "collapsed_sections": [],
      "toc_visible": true,
      "include_colab_link": true
    },
    "kernelspec": {
      "display_name": "Python 3",
      "language": "python",
      "name": "python3"
    }
  },
  "cells": [
    {
      "cell_type": "markdown",
      "metadata": {
        "id": "view-in-github",
        "colab_type": "text"
      },
      "source": [
        "<a href=\"https://colab.research.google.com/github/nishitjain97/Example-Based-Neural-Machine-Translation-System/blob/master/1_Gather_Dataset.ipynb\" target=\"_parent\"><img src=\"https://colab.research.google.com/assets/colab-badge.svg\" alt=\"Open In Colab\"/></a>"
      ]
    },
    {
      "metadata": {
        "id": "eX-1lnzMymvb",
        "colab_type": "text"
      },
      "cell_type": "markdown",
      "source": [
        "## This file curates a dataset for input to train a Word2Vec model"
      ]
    },
    {
      "metadata": {
        "id": "Fv2lpcM6y8_T",
        "colab_type": "code",
        "outputId": "87f31840-44ac-4179-c43c-069f68a2a8b6",
        "colab": {
          "base_uri": "https://localhost:8080/",
          "height": 34
        }
      },
      "cell_type": "code",
      "source": [
        "from google.colab import drive\n",
        "drive.mount('/content/drive', force_remount=True)"
      ],
      "execution_count": 1,
      "outputs": [
        {
          "output_type": "stream",
          "text": [
            "Mounted at /content/drive\n"
          ],
          "name": "stdout"
        }
      ]
    },
    {
      "metadata": {
        "id": "OwsWQdzgymvf",
        "colab_type": "text"
      },
      "cell_type": "markdown",
      "source": [
        "### 1. Required packages"
      ]
    },
    {
      "metadata": {
        "id": "jRVYTn2iymvg",
        "colab_type": "code",
        "colab": {}
      },
      "cell_type": "code",
      "source": [
        "import time\n",
        "import os\n",
        "import tensorflow as tf"
      ],
      "execution_count": 0,
      "outputs": []
    },
    {
      "metadata": {
        "id": "QvU2mom7ymvl",
        "colab_type": "text"
      },
      "cell_type": "markdown",
      "source": [
        "### 2. Parameters"
      ]
    },
    {
      "metadata": {
        "id": "Kzhcmwn8ymvm",
        "colab_type": "code",
        "colab": {}
      },
      "cell_type": "code",
      "source": [
        "# list_of_files_to_merge = ['/content/drive/My Drive/English Dataset/IITB.en-hi.en', '/content/drive/My Drive/English Dataset/text8.en']\n",
        "list_of_files_to_merge = ['/content/drive/My Drive/Hindi Dataset/IITB.en-hi.hi', '/content/drive/My Drive/Hindi Dataset/monolingual.hi']\n",
        "output_filename = '/content/drive/My Drive/Hindi Dataset/mono.hi'"
      ],
      "execution_count": 0,
      "outputs": []
    },
    {
      "metadata": {
        "id": "_oxF7xoJymvq",
        "colab_type": "text"
      },
      "cell_type": "markdown",
      "source": [
        "### 3. Merge"
      ]
    },
    {
      "metadata": {
        "id": "6A4C2EkJymvr",
        "colab_type": "code",
        "outputId": "b4c08151-b4bf-4081-f04d-28dde12a7809",
        "colab": {
          "base_uri": "https://localhost:8080/",
          "height": 102
        }
      },
      "cell_type": "code",
      "source": [
        "# Open a file to hold merged data\n",
        "output_file = open(output_filename, 'wb')\n",
        "\n",
        "initial_time = time.time()\n",
        "\n",
        "# Loop over each input file\n",
        "for file in list_of_files_to_merge:\n",
        "    print(\"Opening file:\", file)\n",
        "    start_time = time.time()\n",
        "    \n",
        "    # Open the file in read mode\n",
        "    input_file = open(file, 'rb')\n",
        "    \n",
        "    # Count\n",
        "    count = 0\n",
        "    \n",
        "    # Read first character\n",
        "    c = input_file.read(1)\n",
        "    \n",
        "    # Keep looping while read character is not null\n",
        "    while c:\n",
        "        # Write character to output file\n",
        "        if c == b'\\n':\n",
        "            output_file.write(b' ')\n",
        "        else:\n",
        "            output_file.write(c)\n",
        "            \n",
        "        count += 1\n",
        "        \n",
        "        if count > 1000000000 and c == b' ':\n",
        "          break\n",
        "        \n",
        "        # Read next character\n",
        "        c = input_file.read(1)\n",
        "        \n",
        "    output_file.write(b' ')\n",
        "    \n",
        "    print(\"Closing file:\", file, \"Time taken:\", time.time() - start_time)\n",
        "    input_file.close()\n",
        "    \n",
        "print(\"Process complete. Total time:\", time.time() - initial_time)\n",
        "output_file.close()"
      ],
      "execution_count": 4,
      "outputs": [
        {
          "output_type": "stream",
          "text": [
            "Opening file: /content/drive/My Drive/Hindi Dataset/IITB.en-hi.hi\n",
            "Closing file: /content/drive/My Drive/Hindi Dataset/IITB.en-hi.hi Time taken: 143.98174166679382\n",
            "Opening file: /content/drive/My Drive/Hindi Dataset/monolingual.hi\n",
            "Closing file: /content/drive/My Drive/Hindi Dataset/monolingual.hi Time taken: 567.8743875026703\n",
            "Process complete. Total time: 711.8606317043304\n"
          ],
          "name": "stdout"
        }
      ]
    },
    {
      "metadata": {
        "id": "dMF7YWlqS-gn",
        "colab_type": "code",
        "colab": {}
      },
      "cell_type": "code",
      "source": [
        ""
      ],
      "execution_count": 0,
      "outputs": []
    }
  ]
}