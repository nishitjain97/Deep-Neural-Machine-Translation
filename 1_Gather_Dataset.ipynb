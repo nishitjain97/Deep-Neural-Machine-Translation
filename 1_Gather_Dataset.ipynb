{
 "cells": [
  {
   "cell_type": "markdown",
   "metadata": {},
   "source": [
    "## This file curates a dataset for input to train a Word2Vec model"
   ]
  },
  {
   "cell_type": "markdown",
   "metadata": {},
   "source": [
    "### 1. Required packages"
   ]
  },
  {
   "cell_type": "code",
   "execution_count": 1,
   "metadata": {},
   "outputs": [],
   "source": [
    "import time"
   ]
  },
  {
   "cell_type": "markdown",
   "metadata": {},
   "source": [
    "### 2. Parameters"
   ]
  },
  {
   "cell_type": "code",
   "execution_count": 2,
   "metadata": {},
   "outputs": [],
   "source": [
    "list_of_files_to_merge = ['text8.en', 'IITB.en-hi.en']\n",
    "# list_of_files_to_merge = ['monolingual.hi', 'IITB.en-hi.hi']\n",
    "output_filename = 'mono.en'"
   ]
  },
  {
   "cell_type": "markdown",
   "metadata": {},
   "source": [
    "### 3. Merge"
   ]
  },
  {
   "cell_type": "code",
   "execution_count": 3,
   "metadata": {},
   "outputs": [
    {
     "name": "stdout",
     "output_type": "stream",
     "text": [
      "Opening file: text8.en\n",
      "Closing file: text8.en Time taken: 112.50088500976562\n",
      "Opening file: IITB.en-hi.en\n",
      "Closing file: IITB.en-hi.en Time taken: 106.0842080116272\n",
      "Process complete. Total time: 218.5880148410797\n"
     ]
    }
   ],
   "source": [
    "# Open a file to hold merged data\n",
    "output_file = open(output_filename, 'wb')\n",
    "\n",
    "initial_time = time.time()\n",
    "\n",
    "# Loop over each input file\n",
    "for file in list_of_files_to_merge:\n",
    "    print(\"Opening file:\", file)\n",
    "    start_time = time.time()\n",
    "    \n",
    "    # Open the file in read mode\n",
    "    input_file = open(file, 'rb')\n",
    "    \n",
    "    # Character count\n",
    "    count = 0\n",
    "    \n",
    "    # Read first character\n",
    "    c = input_file.read(1)\n",
    "    \n",
    "    # Keep looping while read character is not null\n",
    "    while c:\n",
    "        # Write character to output file\n",
    "        if c == b'\\n':\n",
    "            output_file.write(b' ')\n",
    "        else:\n",
    "            output_file.write(c)\n",
    "        \n",
    "        if count >= 100000000 and c == b' ':\n",
    "            break\n",
    "        \n",
    "        count += 1\n",
    "        \n",
    "        # Read next character\n",
    "        c = input_file.read(1)\n",
    "        \n",
    "    output_file.write(b' ')\n",
    "    \n",
    "    print(\"Closing file:\", file, \"Time taken:\", time.time() - start_time)\n",
    "    input_file.close()\n",
    "    \n",
    "print(\"Process complete. Total time:\", time.time() - initial_time)\n",
    "output_file.close()"
   ]
  },
  {
   "cell_type": "code",
   "execution_count": null,
   "metadata": {},
   "outputs": [],
   "source": []
  },
  {
   "cell_type": "code",
   "execution_count": null,
   "metadata": {},
   "outputs": [],
   "source": []
  }
 ],
 "metadata": {
  "kernelspec": {
   "display_name": "Python 3",
   "language": "python",
   "name": "python3"
  },
  "language_info": {
   "codemirror_mode": {
    "name": "ipython",
    "version": 3
   },
   "file_extension": ".py",
   "mimetype": "text/x-python",
   "name": "python",
   "nbconvert_exporter": "python",
   "pygments_lexer": "ipython3",
   "version": "3.6.5"
  }
 },
 "nbformat": 4,
 "nbformat_minor": 2
}
