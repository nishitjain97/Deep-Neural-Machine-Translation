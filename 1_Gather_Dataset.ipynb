{
  "nbformat": 4,
  "nbformat_minor": 0,
  "metadata": {
    "colab": {
      "name": "1_Gather_Dataset.ipynb",
      "version": "0.3.2",
      "provenance": [],
      "collapsed_sections": [],
      "include_colab_link": true
    },
    "kernelspec": {
      "display_name": "Python 3",
      "language": "python",
      "name": "python3"
    }
  },
  "cells": [
    {
      "cell_type": "markdown",
      "metadata": {
        "id": "view-in-github",
        "colab_type": "text"
      },
      "source": [
        "<a href=\"https://colab.research.google.com/github/nishitjain97/Example-Based-Neural-Machine-Translation-System/blob/master/1_Gather_Dataset.ipynb\" target=\"_parent\"><img src=\"https://colab.research.google.com/assets/colab-badge.svg\" alt=\"Open In Colab\"/></a>"
      ]
    },
    {
      "metadata": {
        "id": "eX-1lnzMymvb",
        "colab_type": "text"
      },
      "cell_type": "markdown",
      "source": [
        "## This file curates a dataset for input to train a Word2Vec model"
      ]
    },
    {
      "metadata": {
        "id": "Fv2lpcM6y8_T",
        "colab_type": "code",
        "colab": {
          "base_uri": "https://localhost:8080/",
          "height": 34
        },
        "outputId": "c64ae07a-020f-4b47-ee8d-6c096deef600"
      },
      "cell_type": "code",
      "source": [
        "from google.colab import drive\n",
        "drive.mount('/content/drive', force_remount=True)"
      ],
      "execution_count": 9,
      "outputs": [
        {
          "output_type": "stream",
          "text": [
            "Mounted at /content/drive\n"
          ],
          "name": "stdout"
        }
      ]
    },
    {
      "metadata": {
        "id": "OwsWQdzgymvf",
        "colab_type": "text"
      },
      "cell_type": "markdown",
      "source": [
        "### 1. Required packages"
      ]
    },
    {
      "metadata": {
        "id": "jRVYTn2iymvg",
        "colab_type": "code",
        "colab": {}
      },
      "cell_type": "code",
      "source": [
        "import time"
      ],
      "execution_count": 0,
      "outputs": []
    },
    {
      "metadata": {
        "id": "QvU2mom7ymvl",
        "colab_type": "text"
      },
      "cell_type": "markdown",
      "source": [
        "### 2. Parameters"
      ]
    },
    {
      "metadata": {
        "id": "Kzhcmwn8ymvm",
        "colab_type": "code",
        "colab": {}
      },
      "cell_type": "code",
      "source": [
        "# list_of_files_to_merge = ['/content/drive/My Drive/English Dataset/IITB.en-hi.en', '/content/drive/My Drive/English Dataset/text8.en']\n",
        "list_of_files_to_merge = ['/content/drive/My Drive/Hindi Dataset/IITB.en-hi.hi', '/content/drive/My Drive/Hindi Dataset/monolingual.hi']\n",
        "output_filename = '/content/drive/My Drive/Hindi Dataset/mono.hi'"
      ],
      "execution_count": 0,
      "outputs": []
    },
    {
      "metadata": {
        "id": "_oxF7xoJymvq",
        "colab_type": "text"
      },
      "cell_type": "markdown",
      "source": [
        "### 3. Merge"
      ]
    },
    {
      "metadata": {
        "id": "6A4C2EkJymvr",
        "colab_type": "code",
        "outputId": "500dff7c-1d95-440a-dde7-66f1829fdd8c",
        "colab": {
          "base_uri": "https://localhost:8080/",
          "height": 102
        }
      },
      "cell_type": "code",
      "source": [
        "# Open a file to hold merged data\n",
        "output_file = open(output_filename, 'wb')\n",
        "\n",
        "initial_time = time.time()\n",
        "\n",
        "# Loop over each input file\n",
        "for file in list_of_files_to_merge:\n",
        "    print(\"Opening file:\", file)\n",
        "    start_time = time.time()\n",
        "    \n",
        "    # Open the file in read mode\n",
        "    input_file = open(file, 'rb')\n",
        "    \n",
        "    # Read first character\n",
        "    c = input_file.read(1)\n",
        "    \n",
        "    # Keep looping while read character is not null\n",
        "    while c:\n",
        "        # Write character to output file\n",
        "        if c == b'\\n':\n",
        "            output_file.write(b' ')\n",
        "        else:\n",
        "            output_file.write(c)\n",
        "        \n",
        "        # Read next character\n",
        "        c = input_file.read(1)\n",
        "        \n",
        "    output_file.write(b' ')\n",
        "    \n",
        "    print(\"Closing file:\", file, \"Time taken:\", time.time() - start_time)\n",
        "    input_file.close()\n",
        "    \n",
        "print(\"Process complete. Total time:\", time.time() - initial_time)\n",
        "output_file.close()"
      ],
      "execution_count": 7,
      "outputs": [
        {
          "output_type": "stream",
          "text": [
            "Opening file: /content/drive/My Drive/Hindi Dataset/IITB.en-hi.hi\n",
            "Closing file: /content/drive/My Drive/Hindi Dataset/IITB.en-hi.hi Time taken: 126.43408751487732\n",
            "Opening file: /content/drive/My Drive/Hindi Dataset/monolingual.hi\n",
            "Closing file: /content/drive/My Drive/Hindi Dataset/monolingual.hi Time taken: 4736.839893102646\n",
            "Process complete. Total time: 4863.279710054398\n"
          ],
          "name": "stdout"
        }
      ]
    },
    {
      "metadata": {
        "id": "ZUwagiTryzNu",
        "colab_type": "code",
        "colab": {
          "base_uri": "https://localhost:8080/",
          "height": 54
        },
        "outputId": "93dbae94-a4f1-4d72-810d-9bf9177d0064"
      },
      "cell_type": "code",
      "source": [
        "with open('/content/drive/My Drive/Hindi Dataset/mono.hi') as f:\n",
        "  for i in range(1000):\n",
        "    print(f.read(1), end='')"
      ],
      "execution_count": 8,
      "outputs": [
        {
          "output_type": "stream",
          "text": [
            "अपने अनुप्रयोग को पहुंचनीयता व्यायाम का लाभ दें एक्सेर्साइसर पहुंचनीयता अन्वेषक निचले पटल के लिए डिफोल्ट प्लग - इन खाका ऊपरी पटल के लिए डिफोल्ट प्लग - इन खाका उन प्लग - इनों की सूची जिन्हें डिफोल्ट रूप से निष्क्रिय किया गया है अवधि को हाइलाइट रकें पहुंचनीय आसंधि ( नोड ) को चुनते समय हाइलाइट बक्से की अवधि सीमांत ( बोर्डर ) के रंग को हाइलाइट करें हाइलाइट किए गए सीमांत का रंग और अपारदर्शिता ।  भराई के रंग को हाइलाइट करें हाइलाइट किया गया भराई का रंग और पारदर्शिता ।  एपीआई विचरक इस समय जिसे प्राप्त किया गया हो , उसकी विभिन्न विधियों ( मेथड ) में विचरण करें निजी गुणों को छिपाएं विधि गुणधर्म मान आईपाइथन कन्सोल इस समय चुने गए एक्सेसेबेल से काम लेने के लिए अंतर्क्रियात्मक कन्सोल घटना मानिटर घटनाओं को मानिटर करें ( _ M )  चुनाव को हटाएं ( C _ )  सभी चुने गए अनुप्रयोग चुने गए एक्सेसेबेल स्रोत घटना मानिटर चुने गए प्रकारों और स्रोतों से घटनाएं जैसे - जैसे घटित होती हैं , उन्हें दर्शाता है अंतिम प्रविष्ट घटना को हाइलाइट करो घटना रेकोर्डिंग शुरू करो / रोको घटना रोजनामचा मिटाओ कोई विवरण नहीं वर्णन दि"
          ],
          "name": "stdout"
        }
      ]
    },
    {
      "metadata": {
        "id": "dMF7YWlqS-gn",
        "colab_type": "code",
        "colab": {}
      },
      "cell_type": "code",
      "source": [
        ""
      ],
      "execution_count": 0,
      "outputs": []
    }
  ]
}