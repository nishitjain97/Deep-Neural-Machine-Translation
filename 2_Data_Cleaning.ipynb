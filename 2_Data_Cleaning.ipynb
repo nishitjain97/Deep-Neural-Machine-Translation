{
 "cells": [
  {
   "cell_type": "code",
   "execution_count": 51,
   "metadata": {},
   "outputs": [],
   "source": [
    "import numpy as np\n",
    "import pandas as pd\n",
    "import string\n",
    "import re"
   ]
  },
  {
   "cell_type": "code",
   "execution_count": 55,
   "metadata": {},
   "outputs": [],
   "source": [
    "def clean_text(data:list=None, language:str=None):\n",
    "    \"\"\"\n",
    "        Input: List, String\n",
    "        Output: List\n",
    "        Takes in text as list of strings. Returns text cleaned for NMT purposes.\n",
    "    \"\"\"\n",
    "    if language == None:\n",
    "        print(\"Please enter which language.\")\n",
    "        return None\n",
    "        \n",
    "    exclude = set(string.punctuation)\n",
    "    remove_digits = str.maketrans('', '', string.digits)\n",
    "        \n",
    "    if language == 'en':\n",
    "        output_data = []\n",
    "        \n",
    "        for sentence in data:\n",
    "            sentence = sentence.lower()\n",
    "            sentence = ''.join(ch for ch in sentence if ch not in exclude)\n",
    "            sentence = sentence.translate(remove_digits)\n",
    "            sentence = sentence.strip()\n",
    "            sentence = re.sub(\" +\", \" \", sentence)\n",
    "            if len(sentence) >= 1:\n",
    "                output_data.append(sentence)\n",
    "        \n",
    "        return output_data\n",
    "    \n",
    "    elif language == 'hi':\n",
    "        output_data = []\n",
    "        \n",
    "        for sentence in data:\n",
    "            sentence = sentence.lower()\n",
    "            sentence = ''.join(ch for ch in sentence if ch not in exclude)\n",
    "            sentence = re.sub('[a-z]', '', sentence)\n",
    "            sentence = sentence.translate(remove_digits)\n",
    "            sentence = sentence.strip()\n",
    "            sentence = re.sub(\" +\", \" \", sentence)\n",
    "            if len(sentence) >= 1:\n",
    "                sentence = '<START> ' + sentence + ' <END>'\n",
    "                output_data.append(sentence)\n",
    "                \n",
    "        return output_data\n",
    "    \n",
    "    elif language == 'be':\n",
    "        output_data = []\n",
    "        \n",
    "        for sentence in data:\n",
    "            sentence = sentence.lower()\n",
    "            sentence = ''.join(ch for ch in sentence if ch not in exclude)\n",
    "            sentence = sentence.translate(remove_digits)\n",
    "            sentence = sentence.strip()\n",
    "            sentence = re.sub(\" +\", \" \", sentence)\n",
    "            if len(sentence) >= 1:\n",
    "                output_data.append(sentence)\n",
    "    \n",
    "    else:\n",
    "        print(\"Language not found\")\n",
    "        return None"
   ]
  },
  {
   "cell_type": "code",
   "execution_count": 56,
   "metadata": {},
   "outputs": [],
   "source": [
    "data = pd.read_pickle('eng-hin-parallel.pickle')"
   ]
  },
  {
   "cell_type": "code",
   "execution_count": null,
   "metadata": {},
   "outputs": [],
   "source": []
  }
 ],
 "metadata": {
  "kernelspec": {
   "display_name": "Python 3",
   "language": "python",
   "name": "python3"
  },
  "language_info": {
   "codemirror_mode": {
    "name": "ipython",
    "version": 3
   },
   "file_extension": ".py",
   "mimetype": "text/x-python",
   "name": "python",
   "nbconvert_exporter": "python",
   "pygments_lexer": "ipython3",
   "version": "3.6.1"
  }
 },
 "nbformat": 4,
 "nbformat_minor": 2
}
