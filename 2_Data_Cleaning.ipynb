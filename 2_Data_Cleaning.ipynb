{
  "nbformat": 4,
  "nbformat_minor": 0,
  "metadata": {
    "colab": {
      "name": "2_Data_Cleaning.ipynb",
      "version": "0.3.2",
      "provenance": [],
      "collapsed_sections": [],
      "include_colab_link": true
    },
    "kernelspec": {
      "display_name": "Python 3",
      "language": "python",
      "name": "python3"
    }
  },
  "cells": [
    {
      "cell_type": "markdown",
      "metadata": {
        "id": "view-in-github",
        "colab_type": "text"
      },
      "source": [
        "<a href=\"https://colab.research.google.com/github/nishitjain97/Example-Based-Neural-Machine-Translation-System/blob/master/2_Data_Cleaning.ipynb\" target=\"_parent\"><img src=\"https://colab.research.google.com/assets/colab-badge.svg\" alt=\"Open In Colab\"/></a>"
      ]
    },
    {
      "metadata": {
        "id": "tp8Kz1hT-DnW",
        "colab_type": "code",
        "colab": {
          "base_uri": "https://localhost:8080/",
          "height": 122
        },
        "outputId": "02b13de7-cd02-4727-c7cf-94362a667d11"
      },
      "cell_type": "code",
      "source": [
        "# Mount the Google drive onto Colab Virtual Environment\n",
        "from google.colab import drive\n",
        "drive.mount('/content/drive')"
      ],
      "execution_count": 1,
      "outputs": [
        {
          "output_type": "stream",
          "text": [
            "Go to this URL in a browser: https://accounts.google.com/o/oauth2/auth?client_id=947318989803-6bn6qk8qdgf4n4g3pfee6491hc0brc4i.apps.googleusercontent.com&redirect_uri=urn%3Aietf%3Awg%3Aoauth%3A2.0%3Aoob&scope=email%20https%3A%2F%2Fwww.googleapis.com%2Fauth%2Fdocs.test%20https%3A%2F%2Fwww.googleapis.com%2Fauth%2Fdrive%20https%3A%2F%2Fwww.googleapis.com%2Fauth%2Fdrive.photos.readonly%20https%3A%2F%2Fwww.googleapis.com%2Fauth%2Fpeopleapi.readonly&response_type=code\n",
            "\n",
            "Enter your authorization code:\n",
            "··········\n",
            "Mounted at /content/drive\n"
          ],
          "name": "stdout"
        }
      ]
    },
    {
      "metadata": {
        "id": "skcwoT7K8ra-",
        "colab_type": "code",
        "colab": {}
      },
      "cell_type": "code",
      "source": [
        "# Required packages\n",
        "import numpy as np\n",
        "import pandas as pd\n",
        "import string\n",
        "import re"
      ],
      "execution_count": 0,
      "outputs": []
    },
    {
      "metadata": {
        "id": "k4pzsq9B8rbE",
        "colab_type": "code",
        "colab": {}
      },
      "cell_type": "code",
      "source": [
        "def clean_text(sentence:list=None, language:str=None):\n",
        "    \"\"\"\n",
        "        Input: List, String\n",
        "        Output: List\n",
        "        Takes in text as list of strings. Returns text cleaned for NMT purposes.\n",
        "    \"\"\"\n",
        "    if language == None:\n",
        "        print(\"Please enter which language.\")\n",
        "        return None\n",
        "        \n",
        "    exclude = set(string.punctuation)\n",
        "    remove_digits = str.maketrans('', '', string.digits)\n",
        "        \n",
        "    if language == 'en':\n",
        "      sentence = sentence.lower()\n",
        "      sentence = ''.join(ch for ch in sentence if ch not in exclude)\n",
        "      sentence = sentence.translate(remove_digits)\n",
        "      sentence = sentence.strip()\n",
        "      sentence = re.sub(\" +\", \" \", sentence)\n",
        "      return sentence\n",
        "    \n",
        "    elif language == 'hi':\n",
        "      sentence = sentence.lower()\n",
        "      sentence = ''.join(ch for ch in sentence if ch not in exclude)\n",
        "      sentence = re.sub('[a-z]', '', sentence)\n",
        "      sentence = re.sub('[०१२३४५६७८९।]', '', sentence)\n",
        "      sentence = sentence.translate(remove_digits)\n",
        "      sentence = sentence.strip()\n",
        "      sentence = re.sub(\" +\", \" \", sentence)\n",
        "      return sentence\n",
        "    \n",
        "    elif language == 'ma':\n",
        "      sentence = sentence.lower()\n",
        "      sentence = ''.join(ch for ch in sentence if ch not in exclude)\n",
        "      sentence = sentence.translate(remove_digits)\n",
        "      sentence = sentence.strip()\n",
        "      sentence = re.sub(\" +\", \" \", sentence)\n",
        "    \n",
        "    else:\n",
        "        print(\"Language not found\")\n",
        "        return None"
      ],
      "execution_count": 0,
      "outputs": []
    },
    {
      "metadata": {
        "id": "VHThnmlq8rbJ",
        "colab_type": "code",
        "colab": {}
      },
      "cell_type": "code",
      "source": [
        "# Filepaths\n",
        "input_filename = '/content/drive/My Drive/Hindi Dataset/mono.hi'\n",
        "output_filename = '/content/drive/My Drive/Hindi Dataset/mono_cleaned.hi'\n",
        "\n",
        "number_of_characters_in_one_go = 1000000"
      ],
      "execution_count": 0,
      "outputs": []
    },
    {
      "metadata": {
        "id": "9TGGhp178rbM",
        "colab_type": "code",
        "colab": {}
      },
      "cell_type": "code",
      "source": [
        "# Open output file\n",
        "f_out = open(output_filename, 'w')\n",
        "\n",
        "# Open input file\n",
        "f_in = open(input_filename, 'r')\n",
        "\n",
        "# Read batches of characters to prevent primary memory from filling completely\n",
        "text = f_in.read(number_of_characters_in_one_go)\n",
        "\n",
        "# While the file is still reading\n",
        "while text:\n",
        "  # Clean the read text\n",
        "  text = clean_text(text, 'hi')\n",
        "  \n",
        "  # Write it to output file\n",
        "  f_out.write(text)\n",
        "  \n",
        "  # Read next batch of characters\n",
        "  text = f_in.read(number_of_characters_in_one_go)\n",
        "\n",
        "# Close both files\n",
        "f_in.close()\n",
        "f_out.close()"
      ],
      "execution_count": 0,
      "outputs": []
    },
    {
      "metadata": {
        "id": "45b-Gdf2PoJs",
        "colab_type": "code",
        "colab": {}
      },
      "cell_type": "code",
      "source": [
        "# # To check the stored data\n",
        "\n",
        "# # Counter to stop printing\n",
        "# count = 0\n",
        "\n",
        "# # Open output file in read mode\n",
        "# f_in = open(output_filename, 'r')\n",
        "\n",
        "# # Read text\n",
        "# text = f_in.read(100)\n",
        "\n",
        "# while text:\n",
        "#   print(text)\n",
        "  \n",
        "#   count += 1\n",
        "  \n",
        "#   if count == 100:\n",
        "#     break\n",
        "    \n",
        "#   text = f_in.read(100)"
      ],
      "execution_count": 0,
      "outputs": []
    },
    {
      "metadata": {
        "id": "BFuqIDXlVQwD",
        "colab_type": "code",
        "colab": {}
      },
      "cell_type": "code",
      "source": [
        ""
      ],
      "execution_count": 0,
      "outputs": []
    }
  ]
}