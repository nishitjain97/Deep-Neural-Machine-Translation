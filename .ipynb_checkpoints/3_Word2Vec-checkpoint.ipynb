{
 "cells": [
  {
   "cell_type": "code",
   "execution_count": 1,
   "metadata": {
    "colab": {
     "base_uri": "https://localhost:8080/",
     "height": 54
    },
    "colab_type": "code",
    "id": "lQHUvhlcSUR6",
    "outputId": "cec9fb2a-4666-4dd4-d135-3eaf17531ef0"
   },
   "outputs": [],
   "source": [
    "# # Mount the Google drive onto Colab Virtual Environment\n",
    "# from google.colab import drive\n",
    "# drive.mount('/content/drive')\n",
    "root = '.'\n",
    "# root = '/content/drive/My Drive/English Dataset'"
   ]
  },
  {
   "cell_type": "code",
   "execution_count": 2,
   "metadata": {
    "colab": {},
    "colab_type": "code",
    "id": "sblMzq0nSTa6"
   },
   "outputs": [
    {
     "name": "stderr",
     "output_type": "stream",
     "text": [
      "/usr/local/lib/python3.6/site-packages/h5py/__init__.py:36: FutureWarning: Conversion of the second argument of issubdtype from `float` to `np.floating` is deprecated. In future, it will be treated as `np.float64 == np.dtype(float).type`.\n",
      "  from ._conv import register_converters as _register_converters\n"
     ]
    }
   ],
   "source": [
    "from __future__ import print_function\n",
    "import collections\n",
    "import math\n",
    "import numpy as np\n",
    "import os\n",
    "import random\n",
    "import tensorflow as tf\n",
    "import zipfile\n",
    "from six.moves import range\n",
    "from six.moves.urllib.request import urlretrieve\n",
    "import pandas as pd\n",
    "import pickle"
   ]
  },
  {
   "cell_type": "code",
   "execution_count": 3,
   "metadata": {
    "colab": {},
    "colab_type": "code",
    "id": "8HrGr_l-STbA"
   },
   "outputs": [],
   "source": [
    "filename = os.path.join(root, 'mono.en')"
   ]
  },
  {
   "cell_type": "code",
   "execution_count": 4,
   "metadata": {
    "colab": {
     "base_uri": "https://localhost:8080/",
     "height": 34
    },
    "colab_type": "code",
    "id": "ycVuwT3YSTbD",
    "outputId": "413088b6-67d8-4be9-92ff-4c20c2fd3612"
   },
   "outputs": [
    {
     "name": "stdout",
     "output_type": "stream",
     "text": [
      "Data size 463477\n"
     ]
    }
   ],
   "source": [
    "def read_data(filename):\n",
    "    words = list()\n",
    "    \n",
    "    with open(filename) as f:\n",
    "        c = tf.compat.as_str(f.read(1))\n",
    "        \n",
    "        while c:\n",
    "            word = ''\n",
    "            \n",
    "            while c != ' ':\n",
    "                word += c\n",
    "                \n",
    "                c = tf.compat.as_str(f.read(1))\n",
    "            \n",
    "            words.append(word)\n",
    "                \n",
    "            c = tf.compat.as_str(f.read(1))\n",
    "            \n",
    "    return words\n",
    "\n",
    "words = read_data(filename)\n",
    "print(\"Data size %d\" % len(words))"
   ]
  },
  {
   "cell_type": "code",
   "execution_count": 5,
   "metadata": {
    "colab": {
     "base_uri": "https://localhost:8080/",
     "height": 34
    },
    "colab_type": "code",
    "id": "sXJOKPjUTN_e",
    "outputId": "33a01b86-3f35-484a-faf5-2314b73687ba"
   },
   "outputs": [
    {
     "data": {
      "text/plain": [
       "8730"
      ]
     },
     "execution_count": 5,
     "metadata": {},
     "output_type": "execute_result"
    }
   ],
   "source": [
    "len(set(words))"
   ]
  },
  {
   "cell_type": "code",
   "execution_count": 6,
   "metadata": {
    "colab": {
     "base_uri": "https://localhost:8080/",
     "height": 71
    },
    "colab_type": "code",
    "id": "qzxYNJAWSTbL",
    "outputId": "2cca520c-29c7-4f01-fa6b-74114e49c954"
   },
   "outputs": [
    {
     "name": "stdout",
     "output_type": "stream",
     "text": [
      "Most common words (+UNK) [['UNK', 0], ('the', 22887), ('to', 13574), ('a', 9482), ('you', 8308)]\n",
      "Sample data [177, 22, 228, 36, 1007, 3618, 1561, 1007, 2534, 1]\n"
     ]
    }
   ],
   "source": [
    "vocabulary_size = len(set(words)) +1\n",
    "\n",
    "def build_dataset(words):\n",
    "    count = [['UNK', -1]]\n",
    "    count.extend(collections.Counter(words).most_common(vocabulary_size-1))\n",
    "    dictionary = dict()\n",
    "    \n",
    "    for word, _ in count:\n",
    "        dictionary[word] = len(dictionary)\n",
    "    \n",
    "    data = list()\n",
    "    unk_count = 0\n",
    "    \n",
    "    for word in words:\n",
    "        if word in dictionary:\n",
    "            index = dictionary[word]\n",
    "        else:\n",
    "            index = 0\n",
    "            unk_count += 1\n",
    "        data.append(index)\n",
    "    \n",
    "    count[0][1] = unk_count\n",
    "    \n",
    "    reverse_dictionary = dict(zip(dictionary.values(), dictionary.keys()))\n",
    "    return data, count, dictionary, reverse_dictionary\n",
    "\n",
    "data, count, dictionary, reverse_dictionary = build_dataset(words)\n",
    "print(\"Most common words (+UNK)\", count[:5])\n",
    "print(\"Sample data\", data[:10])\n",
    "del words"
   ]
  },
  {
   "cell_type": "code",
   "execution_count": 7,
   "metadata": {
    "colab": {
     "base_uri": "https://localhost:8080/",
     "height": 170
    },
    "colab_type": "code",
    "id": "XgT6UcEpSTbO",
    "outputId": "fe31cfbf-7f29-4fd5-a220-a27af04b57a3"
   },
   "outputs": [
    {
     "name": "stdout",
     "output_type": "stream",
     "text": [
      "Data: ['give', 'your', 'application', 'an', 'accessibility', 'workout', 'accerciser', 'accessibility']\n",
      "\n",
      "with num_skips = 2 and skip_window = 1:\n",
      "    batch: ['your', 'your', 'application', 'application', 'an', 'an', 'accessibility', 'accessibility']\n",
      "    labels: ['give', 'application', 'an', 'your', 'accessibility', 'application', 'workout', 'an']\n",
      "\n",
      "with num_skips = 4 and skip_window = 2:\n",
      "    batch: ['application', 'application', 'application', 'application', 'an', 'an', 'an', 'an']\n",
      "    labels: ['give', 'your', 'accessibility', 'an', 'accessibility', 'your', 'workout', 'application']\n"
     ]
    }
   ],
   "source": [
    "data_index = 0\n",
    "\n",
    "def generate_batch(batch_size, num_skips, skip_window):\n",
    "    global data_index\n",
    "    assert batch_size % num_skips == 0\n",
    "    assert num_skips <= 2 * skip_window\n",
    "    \n",
    "    batch = np.ndarray(shape=(batch_size), dtype=np.int32)\n",
    "    labels = np.ndarray(shape=(batch_size, 1), dtype=np.int32)\n",
    "    span = 2 * skip_window + 1\n",
    "    buffer = collections.deque(maxlen=span)\n",
    "    \n",
    "    for _ in range(span):\n",
    "        buffer.append(data[data_index])\n",
    "        data_index = (data_index + 1) % len(data)\n",
    "    \n",
    "    for i in range(batch_size // num_skips):\n",
    "        target = skip_window\n",
    "        targets_to_avoid = [skip_window]\n",
    "        \n",
    "        for j in range(num_skips):\n",
    "            while target in targets_to_avoid:\n",
    "                target = random.randint(0, span-1)\n",
    "            targets_to_avoid.append(target)\n",
    "            batch[i * num_skips + j] = buffer[skip_window]\n",
    "            labels[i * num_skips + j, 0] = buffer[target]\n",
    "        buffer.append(data[data_index])\n",
    "        data_index = (data_index + 1) % len(data)\n",
    "    return batch, labels\n",
    "\n",
    "print(\"Data:\", [reverse_dictionary[di] for di in data[:8]])\n",
    "\n",
    "for num_skips, skip_window in [(2, 1), (4, 2)]:\n",
    "    data_index = 0\n",
    "    batch, labels = generate_batch(batch_size=8, num_skips=num_skips, skip_window=skip_window)\n",
    "    print(\"\\nwith num_skips = %d and skip_window = %d:\" % (num_skips, skip_window))\n",
    "    print(\"    batch:\", [reverse_dictionary[bi] for bi in batch])\n",
    "    print(\"    labels:\", [reverse_dictionary[di] for di in labels.reshape(8)])"
   ]
  },
  {
   "cell_type": "code",
   "execution_count": 8,
   "metadata": {
    "colab": {
     "base_uri": "https://localhost:8080/",
     "height": 190
    },
    "colab_type": "code",
    "id": "nxiQasQjSTbS",
    "outputId": "aff61be9-e83e-48e5-b30e-9ea4e011590d"
   },
   "outputs": [
    {
     "name": "stdout",
     "output_type": "stream",
     "text": [
      "WARNING:tensorflow:From /usr/local/lib/python3.6/site-packages/tensorflow/python/ops/nn_impl.py:1344: softmax_cross_entropy_with_logits (from tensorflow.python.ops.nn_ops) is deprecated and will be removed in a future version.\n",
      "Instructions for updating:\n",
      "\n",
      "Future major versions of TensorFlow will allow gradients to flow\n",
      "into the labels input on backprop by default.\n",
      "\n",
      "See @{tf.nn.softmax_cross_entropy_with_logits_v2}.\n",
      "\n"
     ]
    }
   ],
   "source": [
    "batch_size = 128\n",
    "embedding_size = 128\n",
    "skip_window = 1\n",
    "num_skips = 2\n",
    "valid_size = 16\n",
    "valid_window = 100\n",
    "valid_examples = np.array(random.sample(range(valid_window), valid_size))\n",
    "num_sampled = 64\n",
    "\n",
    "graph = tf.Graph()\n",
    "\n",
    "with graph.as_default(), tf.device('/cpu:0'):\n",
    "    train_dataset = tf.placeholder(tf.int32, shape=[batch_size])\n",
    "    train_labels = tf.placeholder(tf.int32, shape=[batch_size, 1])\n",
    "    valid_dataset = tf.constant(valid_examples, dtype=tf.int32)\n",
    "    \n",
    "    embeddings = tf.Variable(tf.random_uniform([vocabulary_size, embedding_size], -1.0, 1.0))\n",
    "    softmax_weights = tf.Variable(tf.truncated_normal([vocabulary_size, embedding_size], stddev=1.0 / math.sqrt(embedding_size)))\n",
    "    softmax_biases = tf.Variable(tf.zeros([vocabulary_size]))\n",
    "    \n",
    "    embed = tf.nn.embedding_lookup(embeddings, train_dataset)\n",
    "    loss = tf.reduce_mean(tf.nn.sampled_softmax_loss(weights=softmax_weights, biases=softmax_biases, inputs=embed,\n",
    "                                                    labels=train_labels, num_sampled=num_sampled, num_classes=vocabulary_size))\n",
    "    \n",
    "    optimizer = tf.train.AdagradOptimizer(1.0).minimize(loss)\n",
    "    \n",
    "    norm = tf.sqrt(tf.reduce_sum(tf.square(embeddings), 1, keepdims=True))\n",
    "    normalized_embeddings = embeddings / norm\n",
    "    valid_embeddings = tf.nn.embedding_lookup(normalized_embeddings, valid_dataset)\n",
    "    similarity = tf.matmul(valid_embeddings, tf.transpose(normalized_embeddings))"
   ]
  },
  {
   "cell_type": "code",
   "execution_count": null,
   "metadata": {
    "colab": {
     "base_uri": "https://localhost:8080/",
     "height": 7463
    },
    "colab_type": "code",
    "id": "GH8-7TyESTbV",
    "outputId": "74cb282b-0b00-4de3-f1dd-ed940a5013cd"
   },
   "outputs": [
    {
     "name": "stdout",
     "output_type": "stream",
     "text": [
      "Initialized\n",
      "Average loss at step 0: 6.340580\n",
      "Nearest to go: stuttering, tenthirty, newlibrary…, rang, z, reached, faces, mountainous,\n",
      "Nearest to no: thursday, goodfornothing, bedrooms, prime, commenting, barbecue, consists, ugly,\n",
      "Nearest to should: cheers, kilo, debugger, queens, washed, alpha, blamed, variable…,\n",
      "Nearest to from: heroin, ammunition, buddhist, remind, gently, requires, invitation, grade,\n",
      "Nearest to with: undefined, forgave, proven, able, parenthese, fastball, price, acceptsave,\n",
      "Nearest to do: frozen, nap, norway, treaty, creative, sinners, jpg, gym,\n",
      "Nearest to my: imported, typhoon, distant, steak, software…, entity, disturbed, resulting,\n",
      "Nearest to if: entertaining, sdlimage, dial, gummy, lays, frame, thats, ask,\n",
      "Nearest to will: sworn, none, float, well, falls, sysfs, insect, meal,\n",
      "Nearest to one: merge, wheat, refcount, malformed, mince, indicated, dialed, backrub,\n",
      "Nearest to be: einstein, sieve, voices, expedited, read, permanently, philosophy, innumerable,\n",
      "Nearest to have: damacus, licenses, addon, xml, threes, together, globale, forklift,\n",
      "Nearest to dont: aggressive, wondering, peanut, incident, gather, screw, sinking, military,\n",
      "Nearest to know: adultery, place, caution, commerce, calcutta, doll, developers, only,\n",
      "Nearest to his: lend, closet, technology, pushes, margins, chased, bothers, advantage,\n",
      "Nearest to set: swim, caviar, numbers, wealthy, live, oiled, exgirlfriend, dots,\n",
      "Average loss at step 2000: 2.629986\n"
     ]
    }
   ],
   "source": [
    "num_steps = 100001\n",
    "loss_list = list()\n",
    "\n",
    "with tf.Session(graph=graph) as session:\n",
    "    tf.global_variables_initializer().run()\n",
    "    print(\"Initialized\")\n",
    "    average_loss = 0\n",
    "    \n",
    "    for step in range(num_steps):\n",
    "        batch_data, batch_labels = generate_batch(batch_size, num_skips, skip_window)\n",
    "        feed_dict = {train_dataset:batch_data, train_labels:batch_labels}\n",
    "        _, l = session.run([optimizer, loss], feed_dict=feed_dict)\n",
    "        average_loss += l\n",
    "        \n",
    "        if step % 2000 == 0:\n",
    "            if step > 0:\n",
    "                average_loss = average_loss / 2000\n",
    "            \n",
    "            print(\"Average loss at step %d: %f\" % (step, average_loss))\n",
    "            loss_list.append(average_loss)\n",
    "            \n",
    "            average_loss = 0\n",
    "        \n",
    "        if step % 10000 == 0:\n",
    "            sim = similarity.eval()\n",
    "            for i in range(valid_size):\n",
    "                valid_word = reverse_dictionary[valid_examples[i]]\n",
    "                top_k = 8\n",
    "                nearest = (-sim[i, :]).argsort()[1:top_k+1]\n",
    "                log = 'Nearest to %s:' % valid_word\n",
    "                for k in range(top_k):\n",
    "                    close_word = reverse_dictionary[nearest[k]]\n",
    "                    log = '%s %s,' % (log, close_word)\n",
    "                print(log)\n",
    "    final_embeddings = normalized_embeddings.eval()"
   ]
  },
  {
   "cell_type": "code",
   "execution_count": null,
   "metadata": {
    "colab": {
     "base_uri": "https://localhost:8080/",
     "height": 265
    },
    "colab_type": "code",
    "id": "6Mr5Q6PiT83x",
    "outputId": "2751fae5-13b8-4f55-a387-3980ddf313f0"
   },
   "outputs": [],
   "source": [
    "import matplotlib.pyplot as plt\n",
    "%matplotlib inline\n",
    "\n",
    "plt.plot(list(range(0, 100001, 2000)), loss_list)\n",
    "plt.show()"
   ]
  },
  {
   "cell_type": "code",
   "execution_count": null,
   "metadata": {
    "colab": {},
    "colab_type": "code",
    "id": "I1pxA-9mSTbZ"
   },
   "outputs": [],
   "source": [
    "output = {\n",
    "    'embeddings': final_embeddings,\n",
    "    'dictionary': dictionary,\n",
    "    'reverse_dictionary': reverse_dictionary\n",
    "}"
   ]
  },
  {
   "cell_type": "code",
   "execution_count": null,
   "metadata": {
    "colab": {},
    "colab_type": "code",
    "id": "-1QXDppfSTbc"
   },
   "outputs": [],
   "source": [
    "with open(os.path.join(root, 'embeddings.en'), 'wb') as f:\n",
    "    pickle.dump(output, f)"
   ]
  },
  {
   "cell_type": "code",
   "execution_count": null,
   "metadata": {},
   "outputs": [],
   "source": []
  }
 ],
 "metadata": {
  "colab": {
   "collapsed_sections": [],
   "include_colab_link": true,
   "name": "3_Word2Vec.ipynb",
   "provenance": [],
   "version": "0.3.2"
  },
  "kernelspec": {
   "display_name": "Python 3",
   "language": "python",
   "name": "python3"
  },
  "language_info": {
   "codemirror_mode": {
    "name": "ipython",
    "version": 3
   },
   "file_extension": ".py",
   "mimetype": "text/x-python",
   "name": "python",
   "nbconvert_exporter": "python",
   "pygments_lexer": "ipython3",
   "version": "3.6.5"
  }
 },
 "nbformat": 4,
 "nbformat_minor": 1
}
